{
 "cells": [
  {
   "cell_type": "markdown",
   "metadata": {},
   "source": [
    "Source: Deep Charts Youtube Channel: https://www.youtube.com/@DeepCharts"
   ]
  },
  {
   "cell_type": "markdown",
   "metadata": {},
   "source": [
    "# AI Sentiment Analysis with Ollama and Scikit-Ollama"
   ]
  },
  {
   "cell_type": "markdown",
   "metadata": {},
   "source": [
    "## Import Libraries"
   ]
  },
  {
   "cell_type": "code",
   "execution_count": 1,
   "metadata": {},
   "outputs": [],
   "source": [
    "import pandas as pd\n",
    "from finvizfinance.quote import finvizfinance\n",
    "from skollama.models.ollama.classification.zero_shot import ZeroShotOllamaClassifier\n",
    "from skollama.models.ollama.classification.few_shot import FewShotOllamaClassifier"
   ]
  },
  {
   "cell_type": "markdown",
   "metadata": {},
   "source": [
    "## Pull Stock News Headline Data"
   ]
  },
  {
   "cell_type": "code",
   "execution_count": null,
   "metadata": {},
   "outputs": [],
   "source": [
    "# Initialize the finvizfinance object for INTC\n",
    "stock = finvizfinance('INTC')\n",
    "\n",
    "# Fetch the latest news articles\n",
    "news_df = stock.ticker_news()\n",
    "\n",
    "news_df.head()"
   ]
  },
  {
   "cell_type": "markdown",
   "metadata": {},
   "source": [
    "Data Wrangling (Reorder dataframe, remove headlines without company name in headline)"
   ]
  },
  {
   "cell_type": "code",
   "execution_count": null,
   "metadata": {},
   "outputs": [],
   "source": [
    "# Reorder Columns\n",
    "news_df = news_df[['Date','Link','Title']]\n",
    "\n",
    "# Define the keywords to filter by\n",
    "keywords = ['INTC', 'Intel']\n",
    "\n",
    "# Create a regex pattern by joining keywords with '|'\n",
    "pattern = '|'.join(keywords)\n",
    "\n",
    "# Filter the DataFrame using str.contains\n",
    "filtered_news_df = news_df[news_df['Title'].str.contains(pattern, case=False, na=False)]\n",
    "\n",
    "filtered_news_df.head()"
   ]
  },
  {
   "cell_type": "markdown",
   "metadata": {},
   "source": [
    "## Run Zero Shot Classifier"
   ]
  },
  {
   "cell_type": "code",
   "execution_count": null,
   "metadata": {},
   "outputs": [],
   "source": [
    "# Initialize the ZeroShotOllamaClassifier\n",
    "clf = ZeroShotOllamaClassifier(model='llama3')\n",
    "\n",
    "# Define the candidate labels\n",
    "candidate_labels = ['positive', 'negative', 'neutral']\n",
    "\n",
    "# Fit the classifier (no training data needed for zero-shot)\n",
    "clf.fit(None, candidate_labels)\n",
    "\n",
    "# Predict the sentiment of each news title as a new colum in our DataFrame\n",
    "filtered_news_df['Sentiment_zero'] = clf.predict(filtered_news_df['Title'])\n"
   ]
  },
  {
   "cell_type": "code",
   "execution_count": null,
   "metadata": {},
   "outputs": [],
   "source": [
    "filtered_news_df[['Title','Sentiment_zero']]"
   ]
  },
  {
   "cell_type": "markdown",
   "metadata": {},
   "source": [
    "## Train and Run Few Shot Classifier"
   ]
  },
  {
   "cell_type": "markdown",
   "metadata": {},
   "source": [
    "1. Start by randomly selecting a few training examples from the original dataset"
   ]
  },
  {
   "cell_type": "code",
   "execution_count": null,
   "metadata": {},
   "outputs": [],
   "source": [
    "# Randomly select 6 headlines for few-shot training and add a training indicator\n",
    "few_shot_df = filtered_news_df.sample(n=7, random_state=1)\n",
    "filtered_news_df['Few Shot Training Example'] = filtered_news_df.index.isin(few_shot_df.index)\n",
    "\n",
    "# View training examples\n",
    "list(few_shot_df['Title'])"
   ]
  },
  {
   "cell_type": "markdown",
   "metadata": {},
   "source": [
    "2. Manually review each training example and give human guided label assignment"
   ]
  },
  {
   "cell_type": "code",
   "execution_count": 7,
   "metadata": {},
   "outputs": [],
   "source": [
    "# Manually assigned labels corresponding to the selected headlines\n",
    "# Fill in below based on above headlines\n",
    "user_labels = [\n",
    "    'neutral',\n",
    "    'negative',\n",
    "    'neutral',\n",
    "    'positive',\n",
    "    'positive',\n",
    "    'neutral',\n",
    "    'positive'\n",
    "]\n",
    "\n",
    "# Add the user-provided labels to the few-shot DataFrame\n",
    "few_shot_df['User_Sentiment'] = user_labels"
   ]
  },
  {
   "cell_type": "markdown",
   "metadata": {},
   "source": [
    "3. Initialize and run few shot classifier on the rest of the dataset"
   ]
  },
  {
   "cell_type": "code",
   "execution_count": null,
   "metadata": {},
   "outputs": [],
   "source": [
    "# Initialize the FewShotOllamaClassifier\n",
    "few_shot_clf = FewShotOllamaClassifier(model='llama3')\n",
    "\n",
    "# Fit the classifier with user-provided examples directly from the DataFrame columns\n",
    "few_shot_clf.fit(few_shot_df['Title'], few_shot_df['User_Sentiment'])\n",
    "\n",
    "# Predict the sentiment of all news titles in the filtered DataFrame\n",
    "filtered_news_df['Sentiment_few'] = few_shot_clf.predict(filtered_news_df['Title'])\n"
   ]
  },
  {
   "cell_type": "code",
   "execution_count": null,
   "metadata": {},
   "outputs": [],
   "source": [
    "filtered_news_df_2 = filtered_news_df[['Title','Sentiment_zero','Sentiment_few','Few Shot Training Example']]\n",
    "filtered_news_df_2"
   ]
  }
 ],
 "metadata": {
  "kernelspec": {
   "display_name": "general_env",
   "language": "python",
   "name": "python3"
  },
  "language_info": {
   "codemirror_mode": {
    "name": "ipython",
    "version": 3
   },
   "file_extension": ".py",
   "mimetype": "text/x-python",
   "name": "python",
   "nbconvert_exporter": "python",
   "pygments_lexer": "ipython3",
   "version": "3.12.3"
  }
 },
 "nbformat": 4,
 "nbformat_minor": 2
}
