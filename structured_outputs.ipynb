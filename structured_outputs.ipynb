{
 "cells": [
  {
   "cell_type": "markdown",
   "metadata": {},
   "source": [
    "# Structured Outputs: From Text to Tabular Data"
   ]
  },
  {
   "cell_type": "markdown",
   "metadata": {},
   "source": [
    "## Source: @DeepCharts Youtube Channel (https://www.youtube.com/@DeepCharts)"
   ]
  },
  {
   "cell_type": "markdown",
   "metadata": {},
   "source": [
    "### Import Libraries"
   ]
  },
  {
   "cell_type": "code",
   "execution_count": 2,
   "metadata": {},
   "outputs": [],
   "source": [
    "from ollama import chat\n",
    "from pydantic import BaseModel\n",
    "import pandas as pd\n",
    "from gnews import GNews"
   ]
  },
  {
   "cell_type": "markdown",
   "metadata": {},
   "source": [
    "### Pull News Headline Data"
   ]
  },
  {
   "cell_type": "code",
   "execution_count": null,
   "metadata": {},
   "outputs": [],
   "source": [
    "\n",
    "# Fetch news articles\n",
    "google_news = GNews()\n",
    "news = google_news.get_news(\"NVDA\")\n",
    "\n",
    "# Extract top 6 news titles\n",
    "news_titles = [article['title'] for article in news[:6]]\n",
    "news_titles"
   ]
  },
  {
   "cell_type": "markdown",
   "metadata": {},
   "source": [
    "### LLM Model and Structured Outputs"
   ]
  },
  {
   "cell_type": "code",
   "execution_count": null,
   "metadata": {},
   "outputs": [],
   "source": [
    "# Define BaseModel for news analysis\n",
    "class NewsAnalysis(BaseModel):\n",
    "    sentiment: str  \n",
    "    future_looking: bool  \n",
    "\n",
    "# Initialize an empty list to store results\n",
    "results = []\n",
    "\n",
    "# Loop through the news titles and analyze each\n",
    "for title in news_titles:\n",
    "    response = chat(\n",
    "        messages=[\n",
    "            {\n",
    "                'role': 'user',\n",
    "                'content': f\"\"\"Analyze the following title for sentiment (positive, negative, or neutral) \n",
    "                               and whether it provides future-looking financial insight, predictions, or \n",
    "                               guidance on whether to buy/hold/sell the stock (True or False): {title}\n",
    "                \"\"\",\n",
    "            }\n",
    "        ],\n",
    "        model='llama3.2',\n",
    "        format=NewsAnalysis.model_json_schema(),\n",
    "    )\n",
    "\n",
    "    # Parse the response into the NewsAnalysis model\n",
    "    sentiment_analysis = NewsAnalysis.model_validate_json(response['message']['content'])\n",
    "\n",
    "    # Append the results to the list\n",
    "    results.append({\n",
    "        'title': title,\n",
    "        'sentiment': sentiment_analysis.sentiment,\n",
    "        'future_looking': sentiment_analysis.future_looking\n",
    "    })\n",
    "\n",
    "# Convert the results to a DataFrame\n",
    "df = pd.DataFrame(results)\n",
    "df\n"
   ]
  }
 ],
 "metadata": {
  "kernelspec": {
   "display_name": "structured_output",
   "language": "python",
   "name": "python3"
  },
  "language_info": {
   "codemirror_mode": {
    "name": "ipython",
    "version": 3
   },
   "file_extension": ".py",
   "mimetype": "text/x-python",
   "name": "python",
   "nbconvert_exporter": "python",
   "pygments_lexer": "ipython3",
   "version": "3.9.21"
  }
 },
 "nbformat": 4,
 "nbformat_minor": 2
}
